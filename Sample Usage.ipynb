{
 "cells": [
  {
   "cell_type": "code",
   "execution_count": 0,
   "metadata": {},
   "outputs": [],
   "source": [
    "from ChatStat import ChatStat\n",
    "import matplotlib.pyplot as plt"
   ]
  },
  {
   "cell_type": "code",
   "execution_count": 0,
   "metadata": {},
   "outputs": [
    {
     "data": {
      "text/plain": [ ]
     },
     "execution_count": 0,
     "metadata": {},
     "output_type": "execute_result"
    }
   ],
   "source": [
    "with open('chat.txt') as data:\n",
    "    raw_data = data.readlines()\n",
    "    messages = ChatStat(raw_data)\n",
    "\n",
    "x = messages.authors\n",
    "x\n",
    "# # Set names for people not on phone\n",
    "# messages.authors[25].name = \"Meg (BJ)\"\n",
    "# messages.authors[24].name = \"Zack\"\n",
    "# messages.authors[1].name = \"BJ\"\n",
    "# messages.authors[23].name = \"Laura Walker\"\n",
    "# messages.authors[4].name = \"Eric\""
   ]
  },
  {
   "cell_type": "code",
   "execution_count": 0,
   "metadata": {},
   "outputs": [
    {
     "data": {
      "text/plain": [
       "<Figure size 720x504 with 1 Axes>"
      ]
     },
     "metadata": {
      "needs_background": "light"
     },
     "output_type": "display_data"
    }
   ],
   "source": [
    "D = messages.leave_counts\n",
    "x_vals = [data['author'] for data in D]\n",
    "y_vals = [data['rage_quit_count'] for data in D]\n",
    "\n",
    "plt.title(\"Who Rage Quits\", fontsize='19')\n",
    "plt.ylabel(\"# of Rage Quits\", fontsize='15')\n",
    "plt.xlabel(\"Person\", fontsize='15')\n",
    "plt.bar(x_vals, y_vals, align='center')\n",
    "plt.xticks(x_vals, x_vals, rotation='vertical', fontsize='12')\n",
    "plt.rcParams['figure.figsize'] = [7, 7]\n",
    "plt.show()\n"
   ]
  },
  {
   "cell_type": "code",
   "execution_count": 0,
   "metadata": {},
   "outputs": [
    {
     "data": {
      "text/plain": [
       "<Figure size 576x576 with 1 Axes>"
      ]
     },
     "metadata": {
      "needs_background": "light"
     },
     "output_type": "display_data"
    }
   ],
   "source": [
    "D = messages.messages_by_month\n",
    "plt.title(\"Total Messages Sent by Month\", fontsize='19')\n",
    "plt.ylabel(\"# of Messages\", fontsize='15')\n",
    "plt.xlabel(\"Month\", fontsize='15')\n",
    "plt.bar(range(len(D)), list(D.values()), align='center')\n",
    "plt.xticks(range(len(D)), list(['JAN', 'FEB', 'MAR', 'APR', 'MAY', 'JUN', 'JUL', 'AUG', 'SEP', 'OCT', 'NOV', 'DEC']))\n",
    "plt.rcParams['figure.figsize'] = [10, 8]\n",
    "plt.show()"
   ]
  },
  {
   "cell_type": "code",
   "execution_count": 0,
   "metadata": {},
   "outputs": [
    {
     "data": {
      "text/plain": [
       "<Figure size 720x576 with 1 Axes>"
      ]
     },
     "metadata": {
      "needs_background": "light"
     },
     "output_type": "display_data"
    }
   ],
   "source": [
    "D = messages.messages_by_day\n",
    "plt.title(\"Messages Sent by Day of Week\", fontsize='19')\n",
    "plt.ylabel(\"# of Messages\", fontsize='15')\n",
    "plt.xlabel(\"Day of Week\", fontsize='15')\n",
    "plt.bar(range(len(D)), list(D.values()), align='center')\n",
    "plt.xticks(range(len(D)), list(D.keys()), rotation='vertical')\n",
    "plt.show()"
   ]
  },
  {
   "cell_type": "code",
   "execution_count": 0,
   "metadata": {},
   "outputs": [
    {
     "data": {
      "text/plain": [
       "<Figure size 720x576 with 1 Axes>"
      ]
     },
     "metadata": {
      "needs_background": "light"
     },
     "output_type": "display_data"
    }
   ],
   "source": [
    "D = messages.messages_by_time\n",
    "x_vals = range(24)\n",
    "y_vals = [D[hr] for hr in x_vals]\n",
    "plt.title(\"Messages Sent by Time of Day (24 hr clock)\", fontsize='19')\n",
    "plt.ylabel(\"# of Messages\", fontsize='15')\n",
    "plt.xlabel(\"Time of Day\", fontsize='15')\n",
    "plt.bar(x_vals, y_vals, align='center')\n",
    "plt.xticks(x_vals, x_vals, rotation='vertical')\n",
    "plt.rcParams['figure.figsize'] = [12, 8]\n",
    "plt.show()"
   ]
  },
  {
   "cell_type": "code",
   "execution_count": 0,
   "metadata": {},
   "outputs": [
    {
     "data": {
      "text/plain": [
       "<Figure size 864x576 with 1 Axes>"
      ]
     },
     "metadata": {
      "needs_background": "light"
     },
     "output_type": "display_data"
    }
   ],
   "source": [
    "D = messages.convo_killer\n",
    "# plt.title(\"Who Kills the Chat?\")\n",
    "x_vals = [data['author'].name.replace(\"\\u202a+1 \", \"\").replace(\"\\u202c\", \"\") for data in D]\n",
    "y_vals = [data['avg_response_time'] for data in D]\n",
    "plt.title(\"Who Killed the Conversation\", fontsize='19')\n",
    "plt.ylabel(\"Avg Time chat was silent after they sent message (sec)\", fontsize='15')\n",
    "plt.xlabel(\"Person\", fontsize='15')\n",
    "plt.bar(x_vals, y_vals, align='center')\n",
    "plt.xticks(x_vals, x_vals, rotation='vertical', fontsize='12')\n",
    "plt.rcParams['figure.figsize'] = [10, 8]\n",
    "plt.show()"
   ]
  },
  {
   "cell_type": "code",
   "execution_count": 0,
   "metadata": {},
   "outputs": [
    {
     "data": {
      "text/plain": [
       "25584"
      ]
     },
     "execution_count": 0,
     "metadata": {},
     "output_type": "execute_result"
    }
   ],
   "source": [
    "messages.total_number_of_posts"
   ]
  },
  {
   "cell_type": "code",
   "execution_count": 0,
   "metadata": {},
   "outputs": [
    {
     "data": {
      "text/plain": [
       "<Figure size 720x576 with 1 Axes>"
      ]
     },
     "metadata": {
      "needs_background": "light"
     },
     "output_type": "display_data"
    }
   ],
   "source": [
    "D = messages.post_count_by_author\n",
    "x_vals = [data['author'].name.replace(\"\\u202a+1 \", \"\").replace(\"\\u202c\", \"\") for data in D]\n",
    "y_vals = [data['count'] for data in D]\n",
    "plt.title(\"Who Talks the Most\", fontsize='19')\n",
    "plt.ylabel(\"Number of Messages Sent\", fontsize='15')\n",
    "plt.xlabel(\"Person\", fontsize='15')\n",
    "plt.bar(x_vals, y_vals, align='center')\n",
    "plt.xticks(x_vals, x_vals, rotation='vertical', fontsize='12')\n",
    "plt.rcParams['figure.figsize'] = [12, 12]\n",
    "plt.show()"
   ]
  },
  {
   "cell_type": "code",
   "execution_count": 0,
   "metadata": {},
   "outputs": [
    {
     "data": {
      "text/plain": [
       "<Figure size 864x576 with 1 Axes>"
      ]
     },
     "metadata": {
      "needs_background": "light"
     },
     "output_type": "display_data"
    }
   ],
   "source": [
    "D = messages.longest_messages\n",
    "x_vals = [data['author'].name.replace(\"\\u202a+1 \", \"\").replace(\"\\u202c\", \"\") for data in D]\n",
    "y_vals = [data['longest_msg_len'] for data in D]\n",
    "plt.title(\"Who Blabbered On? (Longest Message)\", fontsize='19')\n",
    "plt.ylabel(\"Length of Longest Message (# of characters)\", fontsize='15')\n",
    "plt.xlabel(\"Person\", fontsize='15')\n",
    "plt.bar(x_vals, y_vals, align='center')\n",
    "plt.xticks(x_vals, x_vals, rotation='vertical', fontsize='12')\n",
    "plt.rcParams['figure.figsize'] = [12, 8]\n",
    "plt.show()"
   ]
  },
  {
   "cell_type": "code",
   "execution_count": 0,
   "metadata": {},
   "outputs": [
    {
     "data": {
      "text/plain": [
       "<Figure size 864x576 with 1 Axes>"
      ]
     },
     "metadata": {
      "needs_background": "light"
     },
     "output_type": "display_data"
    }
   ],
   "source": [
    "D = messages.shortest_messages\n",
    "x_vals = [data['author'].name.replace(\"\\u202a+1 \", \"\").replace(\"\\u202c\", \"\") for data in D]\n",
    "y_vals = [data['shortest_msg_len'] for data in D]\n",
    "plt.title(\"Who Was Quietest? (Shortest Message)\", fontsize='19')\n",
    "plt.ylabel(\"Length of Shortest Message (# of characters)\", fontsize='15')\n",
    "plt.xlabel(\"Person\", fontsize='15')\n",
    "plt.bar(x_vals, y_vals, align='center')\n",
    "plt.xticks(x_vals, x_vals, rotation='vertical', fontsize='12')\n",
    "plt.rcParams['figure.figsize'] = [12, 8]\n",
    "plt.show()"
   ]
  },
  {
   "cell_type": "code",
   "execution_count": 0,
   "metadata": {},
   "outputs": [
    {
     "name": "stdout",
     "output_type": "stream",
     "text": [
      "This may take awhile for a lot of messages. Proceed? [y / (n)]y\n",
      "Classifying Messages [####################]      025584/025584\n",
      "\n"
     ]
    }
   ],
   "source": [
    "messages.classify_messages()"
   ]
  },
  {
   "cell_type": "code",
   "execution_count": 0,
   "metadata": {},
   "outputs": [
    {
     "data": {
      "text/plain": [
       "<Figure size 576x576 with 1 Axes>"
      ]
     },
     "metadata": {
      "needs_background": "light"
     },
     "output_type": "display_data"
    }
   ],
   "source": [
    "import math\n",
    "D = messages.average_author_sentiment\n",
    "sorted_people = list(\n",
    "    filter(\n",
    "        lambda x: x['message_mood']['negative'] > 0,\n",
    "        sorted(D, key=lambda x: x['message_mood']['negativity_ratio'], reverse=True)\n",
    "    )\n",
    ")\n",
    "\n",
    "plt.title(\"Who's a Debbie Downer?\", fontsize='19')\n",
    "x_vals = [data['author'].name.replace(\"\\u202a+1 \", \"\").replace(\"\\u202c\", \"\") for data in sorted_people]\n",
    "y_vals = [data['message_mood']['negativity_ratio'] for data in sorted_people]\n",
    "plt.ylabel(\"Negativity Ratio (Arbitrary Meaningless)\", fontsize='15')\n",
    "plt.xlabel(\"Person (filtered for insufficient # of messages)\", fontsize='15')\n",
    "plt.bar(x_vals, y_vals, align='center')\n",
    "plt.xticks(x_vals, x_vals, rotation='vertical', fontsize='12')\n",
    "plt.rcParams['figure.figsize'] = [8, 8]\n",
    "plt.show()\n"
   ]
  }
 ],
 "metadata": {
  "kernelspec": {
   "display_name": "Python 3",
   "language": "python",
   "name": "python3"
  },
  "language_info": {
   "codemirror_mode": {
    "name": "ipython",
    "version": 3
   },
   "file_extension": ".py",
   "mimetype": "text/x-python",
   "name": "python",
   "nbconvert_exporter": "python",
   "pygments_lexer": "ipython3",
   "version": "3.6.8"
  }
 },
 "nbformat": 4,
 "nbformat_minor": 2
}
